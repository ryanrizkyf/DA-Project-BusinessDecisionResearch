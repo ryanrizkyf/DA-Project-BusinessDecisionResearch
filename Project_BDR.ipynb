{
 "metadata": {
  "language_info": {
   "codemirror_mode": {
    "name": "ipython",
    "version": 3
   },
   "file_extension": ".py",
   "mimetype": "text/x-python",
   "name": "python",
   "nbconvert_exporter": "python",
   "pygments_lexer": "ipython3",
   "version": "3.8.5-final"
  },
  "orig_nbformat": 2,
  "kernelspec": {
   "name": "python3",
   "display_name": "Python 3.8.5 64-bit",
   "metadata": {
    "interpreter": {
     "hash": "324e240ea573fd3d8056e12ea70d483238364e9b42112e18bb174b35d8d396b2"
    }
   }
  }
 },
 "nbformat": 4,
 "nbformat_minor": 2,
 "cells": [
  {
   "cell_type": "code",
   "execution_count": 7,
   "metadata": {},
   "outputs": [
    {
     "output_type": "stream",
     "name": "stdout",
     "text": [
      "Lima data teratas:\n   no  Row_Num  Customer_ID Product  First_Transaction  Last_Transaction  \\\n0   1        1        29531   Jaket      1466304274396     1538718482608   \n1   2        2        29531  Sepatu      1406077331494     1545735761270   \n2   3        3       141526     Tas      1493349147000     1548322802000   \n3   4        4       141526   Jaket      1493362372547     1547643603911   \n4   5        5        37545  Sepatu      1429178498531     1542891221530   \n\n   Average_Transaction_Amount  Count_Transaction  \n0                     1467681                 22  \n1                     1269337                 41  \n2                      310915                 30  \n3                      722632                 27  \n4                     1775036                 25  \n\nInfo dataset:\n<class 'pandas.core.frame.DataFrame'>\nRangeIndex: 100000 entries, 0 to 99999\nData columns (total 8 columns):\n #   Column                      Non-Null Count   Dtype \n---  ------                      --------------   ----- \n 0   no                          100000 non-null  int64 \n 1   Row_Num                     100000 non-null  int64 \n 2   Customer_ID                 100000 non-null  int64 \n 3   Product                     100000 non-null  object\n 4   First_Transaction           100000 non-null  int64 \n 5   Last_Transaction            100000 non-null  int64 \n 6   Average_Transaction_Amount  100000 non-null  int64 \n 7   Count_Transaction           100000 non-null  int64 \ndtypes: int64(7), object(1)\nmemory usage: 6.1+ MB\nNone\n"
     ]
    }
   ],
   "source": [
    "# Importing Data dan Inspection\n",
    "# Importlah dataset dari https://storage.googleapis.com/dqlab-dataset/data_retail.csv\n",
    "# dan kemudian inspeksilah dataset tersebut dengan :\n",
    "# 1. mencetak lima data teratas saja,\n",
    "# 2. mencetak info dataset.\n",
    "\n",
    "import pandas as pd\n",
    "\n",
    "df = pd.read_csv(\n",
    "    'data_retail.csv', sep=';')\n",
    "\n",
    "print('Lima data teratas:')\n",
    "print(df.head())\n",
    "\n",
    "print('\\nInfo dataset:')\n",
    "print(df.info())"
   ]
  },
  {
   "cell_type": "code",
   "execution_count": 8,
   "metadata": {},
   "outputs": [
    {
     "output_type": "stream",
     "name": "stdout",
     "text": [
      "Lima data teratas:\n   no  Row_Num  Customer_ID Product             First_Transaction  \\\n0   1        1        29531   Jaket 2016-06-19 02:44:34.396000000   \n1   2        2        29531  Sepatu 2014-07-23 01:02:11.493999872   \n2   3        3       141526     Tas 2017-04-28 03:12:27.000000000   \n3   4        4       141526   Jaket 2017-04-28 06:52:52.546999808   \n4   5        5        37545  Sepatu 2015-04-16 10:01:38.530999808   \n\n               Last_Transaction  Average_Transaction_Amount  Count_Transaction  \n0 2018-10-05 05:48:02.608000000                     1467681                 22  \n1 2018-12-25 11:02:41.269999872                     1269337                 41  \n2 2019-01-24 09:40:02.000000000                      310915                 30  \n3 2019-01-16 13:00:03.911000064                      722632                 27  \n4 2018-11-22 12:53:41.529999872                     1775036                 25  \n\nInfo dataset:\n<class 'pandas.core.frame.DataFrame'>\nRangeIndex: 100000 entries, 0 to 99999\nData columns (total 8 columns):\n #   Column                      Non-Null Count   Dtype         \n---  ------                      --------------   -----         \n 0   no                          100000 non-null  int64         \n 1   Row_Num                     100000 non-null  int64         \n 2   Customer_ID                 100000 non-null  int64         \n 3   Product                     100000 non-null  object        \n 4   First_Transaction           100000 non-null  datetime64[ns]\n 5   Last_Transaction            100000 non-null  datetime64[ns]\n 6   Average_Transaction_Amount  100000 non-null  int64         \n 7   Count_Transaction           100000 non-null  int64         \ndtypes: datetime64[ns](2), int64(5), object(1)\nmemory usage: 6.1+ MB\nNone\n"
     ]
    }
   ],
   "source": [
    "# Data Cleansing\n",
    "# Dua kolom yang menunjukkan terjadinya transaksi tidak bertipe datetime,\n",
    "# maka ubahlah kedua kolom tersebut ke tipe data datetime.\n",
    "# Kemudian cetaklah kembali 5 data teratas dari dataframe df dan juga tipe data masing-masing kolomnya.\n",
    "\n",
    "# Kolom First_Transaction\n",
    "df['First_Transaction'] = pd.to_datetime(\n",
    "    df['First_Transaction']/1000, unit='s', origin='1970-01-01')\n",
    "# Kolom Last_Transaction\n",
    "df['Last_Transaction'] = pd.to_datetime(\n",
    "    df['Last_Transaction']/1000, unit='s', origin='1970-01-01')\n",
    "\n",
    "print('Lima data teratas:')\n",
    "print(df.head())\n",
    "\n",
    "print('\\nInfo dataset:')\n",
    "print(df.info())"
   ]
  },
  {
   "cell_type": "code",
   "execution_count": 9,
   "metadata": {},
   "outputs": [
    {
     "output_type": "stream",
     "name": "stdout",
     "text": [
      "2019-02-01 23:57:57.286000128\n",
      "Lima data teratas:\n",
      "   no  Row_Num  Customer_ID Product             First_Transaction  \\\n",
      "0   1        1        29531   Jaket 2016-06-19 02:44:34.396000000   \n",
      "1   2        2        29531  Sepatu 2014-07-23 01:02:11.493999872   \n",
      "2   3        3       141526     Tas 2017-04-28 03:12:27.000000000   \n",
      "3   4        4       141526   Jaket 2017-04-28 06:52:52.546999808   \n",
      "4   5        5        37545  Sepatu 2015-04-16 10:01:38.530999808   \n",
      "\n",
      "               Last_Transaction  Average_Transaction_Amount  \\\n",
      "0 2018-10-05 05:48:02.608000000                     1467681   \n",
      "1 2018-12-25 11:02:41.269999872                     1269337   \n",
      "2 2019-01-24 09:40:02.000000000                      310915   \n",
      "3 2019-01-16 13:00:03.911000064                      722632   \n",
      "4 2018-11-22 12:53:41.529999872                     1775036   \n",
      "\n",
      "   Count_Transaction is_churn  \n",
      "0                 22    False  \n",
      "1                 41    False  \n",
      "2                 30    False  \n",
      "3                 27    False  \n",
      "4                 25    False  \n",
      "\n",
      "Info dataset:\n",
      "<class 'pandas.core.frame.DataFrame'>\n",
      "RangeIndex: 100000 entries, 0 to 99999\n",
      "Data columns (total 9 columns):\n",
      " #   Column                      Non-Null Count   Dtype         \n",
      "---  ------                      --------------   -----         \n",
      " 0   no                          100000 non-null  int64         \n",
      " 1   Row_Num                     100000 non-null  int64         \n",
      " 2   Customer_ID                 100000 non-null  int64         \n",
      " 3   Product                     100000 non-null  object        \n",
      " 4   First_Transaction           100000 non-null  datetime64[ns]\n",
      " 5   Last_Transaction            100000 non-null  datetime64[ns]\n",
      " 6   Average_Transaction_Amount  100000 non-null  int64         \n",
      " 7   Count_Transaction           100000 non-null  int64         \n",
      " 8   is_churn                    100000 non-null  object        \n",
      "dtypes: datetime64[ns](2), int64(5), object(2)\n",
      "memory usage: 6.9+ MB\n",
      "None\n"
     ]
    }
   ],
   "source": [
    "# Churn Customers\n",
    "# Untuk menentukan churn customers sesuai definisi yang telah diberikan, carilah :\n",
    "# 1. transaksi paling terakhir kapan dilakukan.\n",
    "# 2. klasifikasikanlah mana customer yang berstatus churn dan mana yang tidak.\n",
    "# Setelah itu cetak lima data teratas dan informasi dataset.\n",
    "\n",
    "# Pengecekan transaksaksi terakhir dalam dataset\n",
    "print(max(df['Last_Transaction']))\n",
    "\n",
    "# Klasifikasikan customer yang berstatus churn atau tidak dengan boolean\n",
    "df.loc[df['Last_Transaction'] <= '2018-08-01', 'is_churn'] = True\n",
    "df.loc[df['Last_Transaction'] > '2018-08-01', 'is_churn'] = False\n",
    "\n",
    "print('Lima data teratas:')\n",
    "print(df.head())\n",
    "\n",
    "print('\\nInfo dataset:')\n",
    "print(df.info())"
   ]
  },
  {
   "cell_type": "code",
   "execution_count": 10,
   "metadata": {},
   "outputs": [
    {
     "output_type": "stream",
     "name": "stdout",
     "text": [
      "   Customer_ID Product             First_Transaction  \\\n0        29531   Jaket 2016-06-19 02:44:34.396000000   \n1        29531  Sepatu 2014-07-23 01:02:11.493999872   \n2       141526     Tas 2017-04-28 03:12:27.000000000   \n3       141526   Jaket 2017-04-28 06:52:52.546999808   \n4        37545  Sepatu 2015-04-16 10:01:38.530999808   \n\n               Last_Transaction  Average_Transaction_Amount  \\\n0 2018-10-05 05:48:02.608000000                     1467681   \n1 2018-12-25 11:02:41.269999872                     1269337   \n2 2019-01-24 09:40:02.000000000                      310915   \n3 2019-01-16 13:00:03.911000064                      722632   \n4 2018-11-22 12:53:41.529999872                     1775036   \n\n   Count_Transaction is_churn  \n0                 22    False  \n1                 41    False  \n2                 30    False  \n3                 27    False  \n4                 25    False  \n"
     ]
    }
   ],
   "source": [
    "# Menghapus kolom yang tidak diperlukan\n",
    "\n",
    "# Hapus kolom-kolom yang tidak diperlukan\n",
    "del df['no']\n",
    "del df['Row_Num']\n",
    "\n",
    "# Cetak lima data teratas\n",
    "print(df.head())"
   ]
  },
  {
   "cell_type": "code",
   "execution_count": null,
   "metadata": {},
   "outputs": [],
   "source": [
    "# Customer acquisition by year\n",
    "# Setelah semuanya lancar, langkah berikutnya adalah membuat visualisasi data berupa trend of customer acquisition by year dengan meggunakan bar chart. \n",
    "# Untuk itu buatlah feature/kolom tambahan yang merupakan tahun dari First_Transaction dan tahun dari Last_Transaction masing-masingnya dengan nama Year_First_Transaction dan Year_Last_Transaction sebelum melakukan visualisasi.\n",
    "import matplotlib.pyplot as plt\n",
    "\n",
    "# Kolom tahun transaksi pertama\n",
    "df['Year_First_Transaction'] = df['First_Transaction'].dt.year\n",
    "# Kolom tahun transaksi terakhir\n",
    "df['Year_Last_Transaction'] = df['Last_Transaction'].dt.year\n",
    "\n",
    "df_year = df.groupby(['Year_First_Transaction'])['Customer_ID'].count()\n",
    "df_year.plot(x='Year_First_Transaction', y='Customer_ID', kind='bar', title='Graph of Customer Acquisition')\n",
    "plt.xlabel('Year_First_Transaction')\n",
    "plt.ylabel('Num_of_Customer')\n",
    "plt.tight_layout()\n",
    "plt.show()"
   ]
  }
 ]
}